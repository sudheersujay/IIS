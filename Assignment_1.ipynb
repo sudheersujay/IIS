{
 "cells": [
  {
   "cell_type": "markdown",
   "metadata": {},
   "source": [
    "# Assignment 1\n",
    "\n",
    "__Note__: *For general instructions about Assignment 1 as well as deadlines, please refer to the acompanying PDF document on Studium.*\n",
    "\n",
    "### Setup\n",
    "\n",
    "This notebook is there to help you complete Assignment 1. It contains 3 sections (one for each task of the assignment) that guide you through the processes of completing the assignment. First import the required libraries:"
   ]
  },
  {
   "cell_type": "code",
   "execution_count": 2,
   "metadata": {},
   "outputs": [],
   "source": [
    "%matplotlib widget"
   ]
  },
  {
   "cell_type": "code",
   "execution_count": 3,
   "metadata": {},
   "outputs": [],
   "source": [
    "import cv2\n",
    "import numpy as np\n",
    "from numpy import genfromtxt as gft\n",
    "from ipywebrtc import CameraStream, VideoRecorder\n",
    "from src.app import AnnotationApp\n",
    "from src.landmark_names import landmark_names\n",
    "from imageio import v3 as iio\n",
    "from numpy.lib.stride_tricks import as_strided\n",
    "import matplotlib.pyplot as plt\n",
    "from src.skbot_replacement import linear_trajectory\n",
    "from zipfile import ZipFile\n",
    "from IPython.display import YouTubeVideo\n",
    "import pandas as pd\n",
    "import csv"
   ]
  },
  {
   "cell_type": "code",
   "execution_count": 4,
   "metadata": {},
   "outputs": [],
   "source": [
    "gestures = [\n",
    "    \"ASL_letter_A\",\n",
    "    \"ASL_letter_B\",\n",
    "    \"ASL_letter_C\",\n",
    "    \"ASL_letter_L\",\n",
    "    \"ASL_letter_R\",\n",
    "    \"ASL_letter_U\",\n",
    "]"
   ]
  },
  {
   "cell_type": "markdown",
   "metadata": {},
   "source": [
    "### Metadata\n",
    "\n",
    "This notebook will generate the files you have to upload in completion of Task 1 and Task 2. In order to ensure that these files will be named correctly, update the variables below with the appropriate values:"
   ]
  },
  {
   "cell_type": "code",
   "execution_count": 5,
   "metadata": {},
   "outputs": [],
   "source": [
    "# update the variables below to the correct values\n",
    "last_name = \"SAGAR\"\n",
    "first_name = \"TAMBRAHALLI\"\n",
    "student_number = \"199712202499\""
   ]
  },
  {
   "cell_type": "markdown",
   "metadata": {},
   "source": [
    "# Task 1 - Anonymized Videos"
   ]
  },
  {
   "cell_type": "markdown",
   "metadata": {},
   "source": [
    "### Recording the Gestures\n",
    "\n",
    "Task 1 asks you to record a total of 6 videos of your hand (6 seconds per video), with each video showing a different gesture. The required gestures change from year to year, so please refer to the instruction document for Assignment 1 for the exact gestures that you will have to record.\n",
    "\n",
    "Currently, the overarching theme is american sign language (ASL) and below you can find a visualization of the ASL alphabet:\n",
    "\n",
    "![ASL Alphabet](https://t3.ftcdn.net/jpg/02/42/65/88/360_F_242658839_l38u5LVWSROrFMLQasxLJgl6sk8yAq9m.jpg)\n",
    "(Source: Adobe Stock)"
   ]
  },
  {
   "cell_type": "markdown",
   "metadata": {},
   "source": [
    "**Important:** While recording the videos move your hand around slowly. For this, pick a constant direction (in 3D) and move your hand slowly in that direction. This is done to create more diverse training data. The hand can be anywhere on the screen, arbitrarily rotated, and at any distance from the camera (as long as it is still clearly identifiable as a hand). The broader the set of examples, the more robust the trained model will be."
   ]
  },
  {
   "cell_type": "code",
   "execution_count": 5,
   "metadata": {},
   "outputs": [
    {
     "data": {
      "image/jpeg": "[encoded data removed]",
      "text/html": [
       "\n",
       "        <iframe\n",
       "            width=\"400\"\n",
       "            height=\"300\"\n",
       "            src=\"https://www.youtube.com/embed/VSu_Nkn7TzY\"\n",
       "            frameborder=\"0\"\n",
       "            allowfullscreen\n",
       "            \n",
       "        ></iframe>\n",
       "        "
      ],
      "text/plain": [
       "<IPython.lib.display.YouTubeVideo at 0x121c007cca0>"
      ]
     },
     "execution_count": 5,
     "metadata": {},
     "output_type": "execute_result"
    }
   ],
   "source": [
    "YouTubeVideo(\"VSu_Nkn7TzY\")"
   ]
  },
  {
   "cell_type": "markdown",
   "metadata": {},
   "source": [
    "_Example 1_: Place your hand on the left side of the image, show the gesture and start recording. Then - over the course of 6 seconds - slowly move your hand to the right side of the image."
   ]
  },
  {
   "cell_type": "code",
   "execution_count": 6,
   "metadata": {},
   "outputs": [
    {
     "data": {
      "image/jpeg": "[encoded data removed]",
      "text/html": [
       "\n",
       "        <iframe\n",
       "            width=\"400\"\n",
       "            height=\"300\"\n",
       "            src=\"https://www.youtube.com/embed/ZEdfzmMntHs\"\n",
       "            frameborder=\"0\"\n",
       "            allowfullscreen\n",
       "            \n",
       "        ></iframe>\n",
       "        "
      ],
      "text/plain": [
       "<IPython.lib.display.YouTubeVideo at 0x1219de7b670>"
      ]
     },
     "execution_count": 6,
     "metadata": {},
     "output_type": "execute_result"
    }
   ],
   "source": [
    "YouTubeVideo(\"ZEdfzmMntHs\")"
   ]
  },
  {
   "cell_type": "markdown",
   "metadata": {},
   "source": [
    "_Example 2_: Place your hand in the bottom of the image, show the gesture and start recording. Then - over the course of 6 seconds - move your hand up towards the top of.\n",
    "\n",
    "*__Note__: We will aggregate the videos from all assignments into a large dataset that you will use during the final project. For this you will anonymize the recorded videos in the next step by blurring your face. If you feel that this level of anonymization is insufficient, you can avoid recording your face or use another means of anonymization.*"
   ]
  },
  {
   "cell_type": "code",
   "execution_count": 32,
   "metadata": {
    "scrolled": false
   },
   "outputs": [
    {
     "data": {
      "application/vnd.jupyter.widget-view+json": {
       "model_id": "",
       "version_major": 2,
       "version_minor": 0
      },
      "text/plain": [
       "CameraStream(constraints={'facing_mode': 'user', 'audio': False, 'video': {'width': 640, 'height': 480}})"
      ]
     },
     "metadata": {},
     "output_type": "display_data"
    }
   ],
   "source": [
    "camera = CameraStream(constraints=\n",
    "                      {'facing_mode': 'user',\n",
    "                       'audio': False,\n",
    "                       'video': { 'width': 640, 'height': 480}\n",
    "                       })\n",
    "camera"
   ]
  },
  {
   "cell_type": "code",
   "execution_count": 33,
   "metadata": {
    "scrolled": false
   },
   "outputs": [
    {
     "data": {
      "application/vnd.jupyter.widget-view+json": {
       "model_id": "de2ee7d8dc824e5abefdbc549809716e",
       "version_major": 2,
       "version_minor": 0
      },
      "text/plain": [
       "VideoRecorder(stream=CameraStream(constraints={'facing_mode': 'user', 'audio': False, 'video': {'width': 640, …"
      ]
     },
     "metadata": {},
     "output_type": "display_data"
    }
   ],
   "source": [
    "recorder = VideoRecorder(stream=camera)\n",
    "recorder"
   ]
  },
  {
   "cell_type": "code",
   "execution_count": 34,
   "metadata": {},
   "outputs": [],
   "source": [
    "camera.close()"
   ]
  },
  {
   "cell_type": "markdown",
   "metadata": {},
   "source": [
    "Once you are happy with the video save it as a MP4 file. The filename should be the name of the gesture that has been recorded. For example, if you recorded the letter A, then the filename would be `ASL_letter_A.mp4`."
   ]
  },
  {
   "cell_type": "code",
   "execution_count": 35,
   "metadata": {},
   "outputs": [],
   "source": [
    "gesture_name = \"ASL_letter_U\""
   ]
  },
  {
   "cell_type": "code",
   "execution_count": 36,
   "metadata": {},
   "outputs": [],
   "source": [
    "with iio.imopen(recorder.video.value, \"r\", format=\"ffmpeg\") as video_in:\n",
    "    frames = video_in.read()\n",
    "\n",
    "iio.imwrite(f\"{gesture_name}.mp4\", frames, fps=30)"
   ]
  },
  {
   "cell_type": "markdown",
   "metadata": {},
   "source": [
    "**Please review the videos before you continue** and ensure that:\n",
    "\n",
    "-\tThe name of the file must match the gesture shown in the video\n",
    "-\tThe video must be in MP4 format\n",
    "-\tThe gesture is shown for at least 6 seconds\n",
    "-\tThe hand showing the gesture is not occluded by any objects\n",
    "-\tThe hand showing the gesture does not occlude your face (if present)\n",
    "-\tThe video must be anonymized\n",
    "\n",
    "If your video does not satisfy the above, __we will reject it__ and you will have to record it again (and redo the annotations for that video)."
   ]
  },
  {
   "cell_type": "markdown",
   "metadata": {},
   "source": [
    "### Anonymizing the Video\n",
    "\n",
    "Run the snippet below. It uses the face detection method presented in lab 1 to track your face and then applies gaussian blur to it."
   ]
  },
  {
   "cell_type": "code",
   "execution_count": 37,
   "metadata": {
    "scrolled": true
   },
   "outputs": [],
   "source": [
    "for condition in gestures:\n",
    "    frames = iio.imread(f\"{condition}.mp4\")\n",
    "    face_cascade = cv2.CascadeClassifier('frontal_face_features.xml')\n",
    "\n",
    "    # find the face in each frame (only keep exact matches)\n",
    "    timestamps = list()\n",
    "    face_coords = list()\n",
    "    for idx, frame in enumerate(frames):\n",
    "        faces = face_cascade.detectMultiScale(frame)\n",
    "        if len(faces) == 1:\n",
    "            timestamps.append(idx)\n",
    "            face_coords.append(faces[0])\n",
    "            \n",
    "    if timestamps == 0:\n",
    "        # no faces detected\n",
    "        iio.imwrite(f\"{condition}_anonymous.mp4\", frames, fps=30)\n",
    "        continue\n",
    "    \n",
    "    # Track the faces across frames and smooth the track\n",
    "    if timestamps[0] != 0:\n",
    "        timestamps.insert(0, 0)\n",
    "        face_coords.insert(0, face_coords[0])\n",
    "    if timestamps[-1] != len(frames):\n",
    "        timestamps.append(len(frames))\n",
    "        face_coords.append(face_coords[-1])\n",
    "    t_control = np.stack(timestamps)\n",
    "    face_coords = np.stack(face_coords)  \n",
    "    face_coords_interpolated = linear_trajectory(np.arange(len(frames)), face_coords, t_control=t_control)\n",
    "    face_coords_interpolated = np.round(face_coords_interpolated).astype(int)\n",
    "    \n",
    "    old_shape = face_coords_interpolated.shape\n",
    "    shape = (old_shape[0] - 5, old_shape[1], 5)\n",
    "    old_strides = face_coords_interpolated.strides\n",
    "    strides = (*old_strides, old_strides[0])    \n",
    "    face_coords_smoothed = np.round(as_strided(face_coords_interpolated, shape, strides).mean(-1)).astype(int)\n",
    "\n",
    "    # blurr the tracked area\n",
    "    # 1. extract the face ROI in each frame\n",
    "    # 2. apply incrementally apply mild blurs to incrementally larger areas\n",
    "    #    (this gives the final result a smoother look)\n",
    "    for frame, pos in zip(frames, face_coords_smoothed): \n",
    "        for partition in range(3, 10):\n",
    "            inner = pos.copy()\n",
    "            inner[0] = pos[0] + 1/partition * pos[2]\n",
    "            inner[1] = pos[1] + 1/partition * pos[3]\n",
    "            inner[2] = (partition-2)/partition * pos[2]\n",
    "            inner[3] = (partition-2)/partition * pos[3]\n",
    "\n",
    "            (x, y, w, h) = inner\n",
    "            roi = frame[y:y+h, x:x+w]   \n",
    "            roi = cv2.GaussianBlur(roi,(21, 21), 50)\n",
    "            frame[y:y+h, x:x+w] = roi\n",
    "\n",
    "        x, y, w, h = pos\n",
    "        roi = frame[y:y+h, x:x+w]   \n",
    "        roi = cv2.GaussianBlur(roi,(11, 11), 50)\n",
    "        frame[y:y+h, x:x+w] = roi\n",
    "\n",
    "    # write the frames to disk\n",
    "    num_frames = len(face_coords_smoothed)\n",
    "    iio.imwrite(f\"{condition}_anonymous.mp4\", frames[:num_frames], fps=30)"
   ]
  },
  {
   "cell_type": "markdown",
   "metadata": {},
   "source": [
    "Inspect the anonymized videos and make sure that you are happy with the result of the anonymization. Also check that the gesture is still clearly visible and not affected by the annonymization. If not, please re-record the video in question and repeat the anonymization process."
   ]
  },
  {
   "cell_type": "markdown",
   "metadata": {},
   "source": [
    "### Prepare Task 1 for submission\n",
    "\n",
    "After you have generated all the videos, group them into a zip file that can be uploaded to Studium. For this, make sure you have updated the values of the variables defined in the **Metadata** section above. Then, run the snippet below to generate the ZIP file."
   ]
  },
  {
   "cell_type": "code",
   "execution_count": 38,
   "metadata": {},
   "outputs": [],
   "source": [
    "with ZipFile(f\"{last_name}_{first_name}_{student_number}_videos.zip\", \"w\") as zipy:\n",
    "    for condition in gestures:\n",
    "        zipy.write(f\"{condition}_anonymous.mp4\", f\"{condition}.mp4\")"
   ]
  },
  {
   "cell_type": "markdown",
   "metadata": {},
   "source": [
    "# Task 2 - Annotating the Videos"
   ]
  },
  {
   "cell_type": "markdown",
   "metadata": {},
   "source": [
    "Annotate the videos that you have created in Task 1. This task will show you some of the challenges associated with \"real world\" ML projects and it tends to be the most disliked step in a ML project. It is, however, one of the most crutial ones, and the better the quality of your annotations is, the better your resulting model tends to be. To help you along in this process, we provide you with an annotation tool.\n",
    "\n",
    "**Important:** This step is crucial for good performance of your machine learning model. ML is not black magic, and your model can only ever be as good as the data you use for training. If you are sloppy here, you will not have high performance later. The saying \"trash in, trash out\" is very true."
   ]
  },
  {
   "cell_type": "markdown",
   "metadata": {},
   "source": [
    "#### How to annotate the gestures:\n",
    "\n",
    "*__Note__: If the annotation is lacking in accuracy, we will ask you to re-annotate the video before you can pass assignment 1.*\n",
    "\n",
    "0. Only annotate <u>visible</u> joints.\n",
    "1. Go to the first frame of the gesture.\n",
    "2. Place the respective joint markers onto each joint according to the figure on the right.\n",
    "3. Go to the last frame of the gesture.\n",
    "4. Move the respective joint markers to their correct position in the last frame.\n",
    "5. Go back to the first frame of the gesture.\n",
    "6. Slowly move the \"Frames\" slider forward. Whenever you see that a marker deviates from the hand's joint, adjust it so that it follows the hand again.\n",
    "7. After all videos are annotated, click the \"Save CSV\" button in the top left corner to create the CSV containing the annotations. It will be placed next to the notebook.\n",
    "\n",
    "#### How to use this annotation tool:\n",
    "\n",
    "1. Use the \"Video\" drop-down menu to select and jump between gestures (progress is preserved).\n",
    "2. Move the \"Frames\" slider at the bottom to select individual frames (progress is preserved).\n",
    "3. Click on the figure on the right, use the blue arrows on the bottom, or use the \"Joint\" drop-down menu to select a joint to annotate.\n",
    "4. Click on the image on the left to place the respective joint marker. This will automatically jump to the next joint.\n",
    "5. The marker matching the currently selected joint will turn red and you can drag it around in the image.\n",
    "5. Use the blue buttons with label \"Keyframe\" to jump to the next (or previous) frame that had the current joint marker placed on it explicitly.\n",
    "6. Use the red \"🗑️ Keyframe\" button to delete the annotation of the current joint at the current frame. This will have no effect if the current frame is not a keyframe.\n",
    "7. Use the red \"Reset Joint\" button to delete all keyframes for the current joint.\n",
    "\n",
    "#### Example Video of an Annotation"
   ]
  },
  {
   "cell_type": "code",
   "execution_count": null,
   "metadata": {},
   "outputs": [],
   "source": [
    "YouTubeVideo(\"9UYYc_L3E34\")"
   ]
  },
  {
   "cell_type": "markdown",
   "metadata": {},
   "source": [
    "#### The Annotation Tool"
   ]
  },
  {
   "cell_type": "code",
   "execution_count": 39,
   "metadata": {
    "scrolled": false
   },
   "outputs": [],
   "source": [
    "%%capture\n",
    "gui = AnnotationApp(gestures, f\"{last_name}_{first_name}_{student_number}\")"
   ]
  },
  {
   "cell_type": "code",
   "execution_count": 40,
   "metadata": {
    "scrolled": false
   },
   "outputs": [
    {
     "data": {
      "application/vnd.jupyter.widget-view+json": {
       "model_id": "1ec4af4d685448eb83d31d0b61aecbb1",
       "version_major": 2,
       "version_minor": 0
      },
      "text/plain": [
       "VBox(children=(HBox(children=(Button(button_style='success', description='Save CSV', icon='save', style=Button…"
      ]
     },
     "metadata": {},
     "output_type": "display_data"
    }
   ],
   "source": [
    "gui"
   ]
  },
  {
   "cell_type": "markdown",
   "metadata": {},
   "source": [
    "### Information Sheet and Consent Form\n",
    "\n",
    "Please review (and sign) the __Information Sheet and Consent Form__ document that was distributed with this assignment.\n"
   ]
  },
  {
   "cell_type": "markdown",
   "metadata": {},
   "source": [
    "# Task 3 - Annotated Videos"
   ]
  },
  {
   "cell_type": "markdown",
   "metadata": {},
   "source": [
    "Visualize the annotations (CSV from task 2) on top of each gesture (video from task 1). For this, draw circles onto each frame at the position of each visible joint. Then, draw lines that connect all pairs of visible joints that are adjacent according to the skeleton. This should result in a skeleton drawn onto the frame similar to the skeleton you saw while annotating the videos. Finally, add the text \"annotated\" into the top left corner of the frame and save the frames of each gesture as a new video.\n",
    "\n",
    "Here is the program/algorithm in pseudo-code:\n",
    "\n",
    "```\n",
    "for each video in gestures:\n",
    "    for each frame in video:\n",
    "        place a label into the top left corner that reads \"annotated\"\n",
    "        get the corresponding joint positions from the CSV file\n",
    "        draw a circle at each (non-missing) joint position\n",
    "        for each pair of visible joints connected by the skeleton:\n",
    "            draw a line between the two joints using cv2.line\n",
    "    create a new_video file called <gesture>_annotated from the annotated frames\n",
    "```\n"
   ]
  },
  {
   "cell_type": "code",
   "execution_count": 42,
   "metadata": {},
   "outputs": [
    {
     "ename": "SyntaxError",
     "evalue": "invalid syntax (Temp/ipykernel_9720/4081814679.py, line 28)",
     "output_type": "error",
     "traceback": [
      "\u001b[1;36m  File \u001b[1;32m\"C:\\Users\\sagar\\AppData\\Local\\Temp/ipykernel_9720/4081814679.py\"\u001b[1;36m, line \u001b[1;32m28\u001b[0m\n\u001b[1;33m    iio.imwrite(f\"{video}_annotated.mp4\", frames, fps=30)\u001b[0m\n\u001b[1;37m    ^\u001b[0m\n\u001b[1;31mSyntaxError\u001b[0m\u001b[1;31m:\u001b[0m invalid syntax\n"
     ]
    }
   ],
   "source": [
    "j=1\n",
    "my_data = gft('SAGAR_TAMBRAHALLI_199712202499.csv', delimiter=',')\n",
    "window_name = \"Test\"\n",
    "myframes, x, y = my_data[:, 2],my_data[:, 4], my_data[:, 5]\n",
    "print(x[350])\n",
    "for video in gestures:\n",
    "    frames = iio.imread(f\"{video}.mp4\")\n",
    "    #print(frame[0])\n",
    "    for frame in frames:\n",
    "        font = cv2.FONT_HERSHEY_SIMPLEX\n",
    "        cv2.putText(frame, \n",
    "                'ANNOTATED', \n",
    "                (50, 50), \n",
    "                font, 1, \n",
    "                (0, 255, 255), \n",
    "                2, \n",
    "                cv2.LINE_4)\n",
    "        iio.imwrite(f\"{video}_annotated.mp4\", frames, fps=30)\n",
    "        for j in range(34042):\n",
    "            cv2.putText(frame, \n",
    "                'O', \n",
    "                (int(x[j]), int(y[j]), \n",
    "                font, 1, \n",
    "                (0, 255, 255), \n",
    "                2, \n",
    "                cv2.LINE_4)               \n",
    "        #cv2.circle(frame,(my_data[:, 4],my_data[:, 5],5,(0,255,0))\n",
    "        iio.imwrite(f\"{video}_annotated.mp4\", frames, fps=30)\n",
    " \n"
   ]
  },
  {
   "cell_type": "code",
   "execution_count": 41,
   "metadata": {},
   "outputs": [],
   "source": [
    "def get_joint_position (index, anon_video): \n",
    "    n = 0\n",
    "    with open('SAGAR_TAMBRAHALLI_199712202499.csv', newline='') as csvfile: \n",
    "        spamreader = csv.DictReader(csvfile)\n",
    "        result = {}\n",
    "        for row in spamreader:\n",
    "            if anon_video == row['gesture']:\n",
    "                if str(index) == row['frame']:\n",
    "                    result[row['joint']]= [float(row['x']), float(row['y'])]\n",
    "    return(result)\n",
    "joints = {0: ['root', 'thumb_1', 'thumb_2', 'thumb_3'], \n",
    "          1: ['root', 'index_1', 'index_2', 'index_3', 'index_4'],\n",
    "          2: ['root', 'middle_1', 'middle_2', 'middle_3', 'middle_4'], \n",
    "          3: ['root', 'ring_1', 'ring_2', 'ring_3', 'ring_4'],\n",
    "          4: ['root', 'pinky_1', 'pinky_2', 'pinky_3', 'pinky_4']}\n",
    "colors = {0: [0,150,255], 1: [255,150,0], 2: [0,255,75], 3: [255,50,50], 4: [150,100,255]}"
   ]
  },
  {
   "cell_type": "code",
   "execution_count": 42,
   "metadata": {},
   "outputs": [],
   "source": [
    "text_string = \"ANNOTATED\"\n",
    "position = (10, 10) # pixels from the image's top Left to the text's bottom left.\n",
    "font = cv2.FONT_HERSHEY_SIMPLEX\n",
    "font_size = 1\n",
    "font_color= (255, 0, 0) # Remember: BGR.\n",
    "font_thickness = 3\n",
    "\n",
    "for index, anon_video in enumerate(gestures): \n",
    "    frames= iio.imread (f\"{anon_video}.mp4\")\n",
    "    for idx, image in enumerate(frames):\n",
    "        cv2.putText(image, text_string, position, font, font_size, font_color, font_thickness) \n",
    "        positions = get_joint_position(idx, anon_video) \n",
    "        line_pos = {0: [], 1: [], 2: [], 3: [], 4: []}\n",
    "        for pos in positions.keys():\n",
    "            cX = round (positions [pos][1], 2) \n",
    "            cY = round (positions [pos][0], 2)\n",
    "            if cX != 0 and cY != 0:\n",
    "                cv2.circle (image, (int (cX), int (cY)), 6, (0, 0, 0), -1)\n",
    "        for i in range (5):\n",
    "            for j in range (len (joints[i])-1):\n",
    "                cX = int(round(positions[joints[i][j]][0],2))\n",
    "                cY = int(round(positions[joints[i][j]][1],2)) \n",
    "                dX = int(round(positions[joints[i][j+1]][0],2))\n",
    "                dY = int(round(positions[joints[i][j+1]][1],2))\n",
    "                if cX != 0 and cY != 0 and dX != 0 and dY != 0:\n",
    "                    cv2.line(image, (cY, cX), (dY, dX), colors[i],2) \n",
    "    iio.imwrite(f\"{anon_video}_annotated.mp4\", frames, fps=30)"
   ]
  },
  {
   "cell_type": "markdown",
   "metadata": {},
   "source": [
    "Once you are done, combine the annotated videos into a ZIP file using the snippet below."
   ]
  },
  {
   "cell_type": "code",
   "execution_count": 43,
   "metadata": {},
   "outputs": [],
   "source": [
    "with ZipFile(f\"{last_name}_{first_name}_{student_number}_annotated.zip\", \"w\") as zipy:\n",
    "    for condition in gestures:\n",
    "        zipy.write(f\"{condition}_annotated.mp4\")"
   ]
  },
  {
   "cell_type": "markdown",
   "metadata": {},
   "source": [
    "## Upload to Studium\n",
    "\n",
    "Once you are done, upload the following files to Studium:\n",
    "\n",
    "1. The filled out and signed *Information Sheet and Consent Form*\n",
    "2. The ZIP file with the anonymous videos (`<last name>_<first name>_<student number>_videos.zip`)\n",
    "3. The CSV file containing the annotations (`<last name>_<first name>_<student number>.csv`)\n",
    "4. the ZIP file with the annotated videos (`<last name>_<first name>_<student number>_videos_annotated.zip`)"
   ]
  },
  {
   "cell_type": "code",
   "execution_count": null,
   "metadata": {},
   "outputs": [],
   "source": []
  }
 ],
 "metadata": {
  "kernelspec": {
   "display_name": "Python 3 (ipykernel)",
   "language": "python",
   "name": "python3"
  },
  "language_info": {
   "codemirror_mode": {
    "name": "ipython",
    "version": 3
   },
   "file_extension": ".py",
   "mimetype": "text/x-python",
   "name": "python",
   "nbconvert_exporter": "python",
   "pygments_lexer": "ipython3",
   "version": "3.9.7"
  }
 },
 "nbformat": 4,
 "nbformat_minor": 4
}
